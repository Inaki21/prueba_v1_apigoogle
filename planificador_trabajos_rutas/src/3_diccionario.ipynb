{
 "cells": [
  {
   "cell_type": "code",
   "execution_count": null,
   "id": "0b52595d",
   "metadata": {},
   "outputs": [
    {
     "name": "stdout",
     "output_type": "stream",
     "text": [
      "{\n",
      "    \"haro\": [-2.858152511919005, 42.5681060494229],\n",
      "    \"sto. domingo\": [-2.950749636445161, 42.433119817282204],\n",
      "    \"durana\": [-2.639513912965261, 42.88702626937825],\n",
      "    \"vitoria\": [-2.6700945850372797, 42.83740036472884],\n",
      "    \"urdiain\": [-2.138824319888948, 42.889614724865645],\n",
      "    \"logroño\": [-2.4478865559684446, 42.45013177767869],\n",
      "    \"san vicente\": [-2.756225378311136, 42.55723123763941],\n",
      "    \"alsasua\": [-2.160411690717142, 42.892317105968665],\n",
      "    \"nanclares\": [-2.8168162684239704, 42.815165330083616],\n",
      "    \"salinas\": [-2.9882562588873665, 42.80254330447877],\n",
      "    \"miranda\": [-2.963886889611098, 42.67981995425053],\n",
      "    \"sotes\": [-2.6042157809448154, 42.39728023698068],\n",
      "    \"nalda\": [-2.4836896934940373, 42.33454755287178],\n",
      "    \"pradejón\": [-2.065080895522403, 42.33162748891024],\n",
      "    \"el rasillo\": [-2.7015883235318703, 42.19476099225876],\n",
      "    \"nieva\": [-2.6669882496729835, 42.21901538839893],\n",
      "    \"cenicero\": [-2.632611302334742, 42.48705296252269],\n",
      "    \"laguardia\": [-2.5766050847639863, 42.54642310684659],\n",
      "    \"agoncillo\": [-2.2943488735734396, 42.449633829721435],\n",
      "    \"briones\": [-2.780999982678883, 42.54363626665786],\n",
      "    \"najera\": [-2.739775456567488, 42.41516740455801],\n",
      "    \"sesma\": [-2.084939920137933, 42.475966103233354],\n",
      "    \"lerín\": [-1.9662847839221445, 42.483451147662834],\n",
      "    \"los arcos\": [-2.1932569768030103, 42.573982646482136],\n",
      "    \"araia\": [-2.313917076959883, 42.88686325403397],\n",
      "    \"fuenmayor\": [-2.555735355173662, 42.46763096774849],\n",
      "}\n"
     ]
    }
   ],
   "source": [
    "import csv\n",
    "from collections import defaultdict\n",
    "\n",
    "# Diccionario para almacenar coordenadas por ciudad\n",
    "coordenadas_ciudades = defaultdict(list)\n",
    "\n",
    "# Leer desde el archivo CSV \n",
    "with open('clientes_90min.csv', mode='r', encoding='utf-8') as archivo:\n",
    "    lector = csv.DictReader(archivo)\n",
    "    for fila in lector:\n",
    "        ciudad = fila['LOCALIDAD'].strip().lower()\n",
    "        lat = float(fila['lat'])\n",
    "        lon = float(fila['lon'])\n",
    "\n",
    "        # Guardamos la primera aparición de la ciudad si no está ya\n",
    "        if ciudad not in coordenadas_ciudades:\n",
    "            coordenadas_ciudades[ciudad] = [lon, lat]\n",
    "\n",
    "# Mostrar el diccionario formateado\n",
    "print(\"{\")\n",
    "for ciudad, coords in coordenadas_ciudades.items():\n",
    "    print(f'    \"{ciudad}\": {coords},')\n",
    "print(\"}\")"
   ]
  },
  {
   "cell_type": "code",
   "execution_count": null,
   "id": "3f9cb8c1",
   "metadata": {},
   "outputs": [],
   "source": []
  }
 ],
 "metadata": {
  "kernelspec": {
   "display_name": "Python 3",
   "language": "python",
   "name": "python3"
  },
  "language_info": {
   "codemirror_mode": {
    "name": "ipython",
    "version": 3
   },
   "file_extension": ".py",
   "mimetype": "text/x-python",
   "name": "python",
   "nbconvert_exporter": "python",
   "pygments_lexer": "ipython3",
   "version": "3.11.9"
  }
 },
 "nbformat": 4,
 "nbformat_minor": 5
}
