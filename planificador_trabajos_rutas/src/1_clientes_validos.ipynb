{
 "cells": [
  {
   "cell_type": "code",
   "execution_count": null,
   "id": "57391eef",
   "metadata": {},
   "outputs": [],
   "source": [
    "# Librerias necesarias para hacer funcionar\n",
    "\n",
    "# pip install pandas numpy openpyxl geopy "
   ]
  },
  {
   "cell_type": "code",
   "execution_count": null,
   "id": "2bd58f35",
   "metadata": {},
   "outputs": [],
   "source": [
    "import pandas as pd\n",
    "from geopy.distance import geodesic\n",
    "\n",
    "# Ruta del archivo corregido\n",
    "ruta_excel = \"Horas_trabajo (1).xlsx\"\n",
    "\n",
    "# Cargar la hoja \"Loc\"\n",
    "df_loc = pd.read_excel(ruta_excel, sheet_name=\"Loc\", header=1)"
   ]
  },
  {
   "cell_type": "code",
   "execution_count": 12,
   "id": "2d91d3a7",
   "metadata": {},
   "outputs": [
    {
     "name": "stdout",
     "output_type": "stream",
     "text": [
      "<class 'pandas.core.frame.DataFrame'>\n",
      "RangeIndex: 46 entries, 0 to 45\n",
      "Data columns (total 4 columns):\n",
      " #   Column        Non-Null Count  Dtype \n",
      "---  ------        --------------  ----- \n",
      " 0   CLIENTE       46 non-null     object\n",
      " 1   LOCALIDAD     46 non-null     object\n",
      " 2    PROVINCIA    46 non-null     object\n",
      " 3   LOCALIZACIÓN  46 non-null     object\n",
      "dtypes: object(4)\n",
      "memory usage: 1.6+ KB\n"
     ]
    }
   ],
   "source": [
    "df_loc.info()"
   ]
  },
  {
   "cell_type": "code",
   "execution_count": 13,
   "id": "6ee32b1d",
   "metadata": {},
   "outputs": [
    {
     "data": {
      "text/html": [
       "<div>\n",
       "<style scoped>\n",
       "    .dataframe tbody tr th:only-of-type {\n",
       "        vertical-align: middle;\n",
       "    }\n",
       "\n",
       "    .dataframe tbody tr th {\n",
       "        vertical-align: top;\n",
       "    }\n",
       "\n",
       "    .dataframe thead th {\n",
       "        text-align: right;\n",
       "    }\n",
       "</style>\n",
       "<table border=\"1\" class=\"dataframe\">\n",
       "  <thead>\n",
       "    <tr style=\"text-align: right;\">\n",
       "      <th></th>\n",
       "      <th>CLIENTE</th>\n",
       "      <th>LOCALIDAD</th>\n",
       "      <th>PROVINCIA</th>\n",
       "      <th>LOCALIZACIÓN</th>\n",
       "    </tr>\n",
       "  </thead>\n",
       "  <tbody>\n",
       "    <tr>\n",
       "      <th>0</th>\n",
       "      <td>1</td>\n",
       "      <td>HARO</td>\n",
       "      <td>LA RIOJA</td>\n",
       "      <td>42.5681060494229, -2.858152511919005</td>\n",
       "    </tr>\n",
       "    <tr>\n",
       "      <th>1</th>\n",
       "      <td>3</td>\n",
       "      <td>STO. DOMINGO</td>\n",
       "      <td>LA RIOJA</td>\n",
       "      <td>42.433119817282204, -2.950749636445161</td>\n",
       "    </tr>\n",
       "    <tr>\n",
       "      <th>2</th>\n",
       "      <td>4</td>\n",
       "      <td>DURANA</td>\n",
       "      <td>ALAVA</td>\n",
       "      <td>42.88702626937825, -2.639513912965261</td>\n",
       "    </tr>\n",
       "    <tr>\n",
       "      <th>3</th>\n",
       "      <td>5</td>\n",
       "      <td>HARO</td>\n",
       "      <td>LA RIOJA</td>\n",
       "      <td>42.56905422294487, -2.8582383426018674</td>\n",
       "    </tr>\n",
       "    <tr>\n",
       "      <th>4</th>\n",
       "      <td>6</td>\n",
       "      <td>VITORIA</td>\n",
       "      <td>ALAVA</td>\n",
       "      <td>42.83740036472884, -2.6700945850372797</td>\n",
       "    </tr>\n",
       "  </tbody>\n",
       "</table>\n",
       "</div>"
      ],
      "text/plain": [
       "  CLIENTE      LOCALIDAD  PROVINCIA                             LOCALIZACIÓN\n",
       "0        1          HARO    LA RIOJA    42.5681060494229, -2.858152511919005\n",
       "1        3  STO. DOMINGO    LA RIOJA  42.433119817282204, -2.950749636445161\n",
       "2        4        DURANA       ALAVA   42.88702626937825, -2.639513912965261\n",
       "3        5          HARO    LA RIOJA  42.56905422294487, -2.8582383426018674\n",
       "4        6       VITORIA       ALAVA  42.83740036472884, -2.6700945850372797"
      ]
     },
     "execution_count": 13,
     "metadata": {},
     "output_type": "execute_result"
    }
   ],
   "source": [
    "df_loc.head()"
   ]
  },
  {
   "cell_type": "code",
   "execution_count": 14,
   "id": "12d931e0",
   "metadata": {},
   "outputs": [],
   "source": [
    "# Renombrar columnas\n",
    "df_loc = df_loc.rename(columns={\"LOCALIZACIÓN\": \"COORDS\", \"CLIENTE \": \"CLIENTE_ID\"})"
   ]
  },
  {
   "cell_type": "code",
   "execution_count": 15,
   "id": "7a6f5ec8",
   "metadata": {},
   "outputs": [
    {
     "name": "stdout",
     "output_type": "stream",
     "text": [
      "38 clientes dentro del rango de 90 minutos.\n",
      "Primeros 5: ['1', '3', '4', '5', '6']\n"
     ]
    }
   ],
   "source": [
    "# Extraer coordenadas\n",
    "df_loc[\"lat\"] = df_loc[\"COORDS\"].apply(lambda x: float(str(x).split(\",\")[0].strip()))\n",
    "df_loc[\"lon\"] = df_loc[\"COORDS\"].apply(lambda x: float(str(x).split(\",\")[1].strip()))\n",
    "\n",
    "# Coordenadas de la sede\n",
    "coordenadas_sede = (42.5515, -2.8732)\n",
    "\n",
    "# Calcular tiempo desde sede (asumiendo 50 km/h)\n",
    "def calcular_tiempo(coor_cliente):\n",
    "    distancia_km = geodesic(coordenadas_sede, coor_cliente).km\n",
    "    return (distancia_km / 50) * 60  # minutos\n",
    "\n",
    "df_loc[\"tiempo_desde_sede_min\"] = df_loc[[\"lat\", \"lon\"]].apply(lambda x: calcular_tiempo((x[\"lat\"], x[\"lon\"])), axis=1)\n",
    "\n",
    "# Filtrar clientes válidos (≤ 90 min)\n",
    "clientes_validos = df_loc[df_loc[\"tiempo_desde_sede_min\"] <= 90]\n",
    "clientes_validos_ids = clientes_validos[\"CLIENTE_ID\"].astype(str).tolist()\n",
    "\n",
    "print(f\"{len(clientes_validos_ids)} clientes dentro del rango de 90 minutos.\")\n",
    "print(\"Primeros 5:\", clientes_validos_ids[:5])"
   ]
  },
  {
   "cell_type": "code",
   "execution_count": 19,
   "id": "3e42424f",
   "metadata": {},
   "outputs": [
    {
     "name": "stdout",
     "output_type": "stream",
     "text": [
      "38 empresas están dentro del rango de 90 minutos.\n",
      "  CLIENTE_ID     LOCALIDAD  tiempo_desde_sede_min\n",
      "0          1          HARO               2.664373\n",
      "1          3  STO. DOMINGO              17.536715\n",
      "2          4        DURANA              50.280536\n",
      "3          5          HARO               2.765751\n",
      "4          6       VITORIA              43.027608\n"
     ]
    }
   ],
   "source": [
    "from geopy.distance import geodesic\n",
    "import pandas as pd\n",
    "\n",
    "# Extraer lat y lon de la columna 'COORDS'\n",
    "df_loc[\"lat\"] = df_loc[\"COORDS\"].apply(lambda x: float(str(x).split(\",\")[0].strip()))\n",
    "df_loc[\"lon\"] = df_loc[\"COORDS\"].apply(lambda x: float(str(x).split(\",\")[1].strip()))\n",
    "\n",
    "# Coordenadas de la sede\n",
    "coordenadas_sede = (42.5515, -2.8732)\n",
    "\n",
    "# Función para calcular tiempo desde la sede en minutos (50 km/h)\n",
    "def calcular_tiempo(coor_cliente):\n",
    "    distancia_km = geodesic(coordenadas_sede, coor_cliente).km\n",
    "    return (distancia_km / 50) * 60  # minutos\n",
    "\n",
    "# Calcular tiempo estimado desde la sede\n",
    "df_loc[\"tiempo_desde_sede_min\"] = df_loc[[\"lat\", \"lon\"]].apply(\n",
    "    lambda x: calcular_tiempo((x[\"lat\"], x[\"lon\"])), axis=1\n",
    ")\n",
    "\n",
    "# Crear nuevo DataFrame solo con empresas cercanas (≤ 90 min)\n",
    "df_clientes_cercanos = df_loc[df_loc[\"tiempo_desde_sede_min\"] <= 90].copy()\n",
    "\n",
    "# Mostrar resumen\n",
    "print(f\"{len(df_clientes_cercanos)} empresas están dentro del rango de 90 minutos.\")\n",
    "print(df_clientes_cercanos[[\"CLIENTE_ID\", \"LOCALIDAD\", \"tiempo_desde_sede_min\"]].head())\n",
    "\n",
    "df_clientes_cercanos.to_csv('clientes_90min.csv')\n"
   ]
  },
  {
   "cell_type": "code",
   "execution_count": null,
   "id": "3565a0a4",
   "metadata": {},
   "outputs": [],
   "source": []
  }
 ],
 "metadata": {
  "kernelspec": {
   "display_name": "Python 3",
   "language": "python",
   "name": "python3"
  },
  "language_info": {
   "codemirror_mode": {
    "name": "ipython",
    "version": 3
   },
   "file_extension": ".py",
   "mimetype": "text/x-python",
   "name": "python",
   "nbconvert_exporter": "python",
   "pygments_lexer": "ipython3",
   "version": "3.11.9"
  }
 },
 "nbformat": 4,
 "nbformat_minor": 5
}
